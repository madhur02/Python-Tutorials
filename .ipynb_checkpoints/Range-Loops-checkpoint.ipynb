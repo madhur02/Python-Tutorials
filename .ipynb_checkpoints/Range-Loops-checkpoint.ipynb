{
 "cells": [
  {
   "cell_type": "markdown",
   "metadata": {},
   "source": [
    "## Lecture 4. Topics\n",
    "\n",
    "   * Range\n",
    "   * For loop over (list / string / tuples / dictionary) and Nested for loop\n",
    "   * While loop\n",
    "   * Functions"
   ]
  },
  {
   "cell_type": "markdown",
   "metadata": {},
   "source": [
    "## Range\n",
    "\n",
    " **Range will generate sequnece of numbers**"
   ]
  },
  {
   "cell_type": "code",
   "execution_count": null,
   "metadata": {},
   "outputs": [],
   "source": [
    "\n",
    "list(range(20))\n",
    "\n",
    "list(range(10,20))\n",
    "\n",
    "#list(range(10,20,2))\n",
    "\n",
    "#list(range(1,100,2))\n",
    "\n",
    "l = list(range(10,20))"
   ]
  },
  {
   "cell_type": "markdown",
   "metadata": {},
   "source": [
    "## For loop\n",
    "\n",
    "NO MORE INITIALIZATION/ TERMINATION / INCREMENT in Python.\n",
    "\n",
    "#### For loop over a list"
   ]
  },
  {
   "cell_type": "code",
   "execution_count": null,
   "metadata": {},
   "outputs": [],
   "source": [
    "for i in l[::2]:   ## i is defined as iterator and l --> sequence\n",
    "    print(i)\n",
    "\n",
    "even = []\n",
    "odd = []\n",
    "for i in range(50,1):\n",
    "    print(i)\n",
    "    if i%2==0:\n",
    "        even.append(i)\n",
    "    else:\n",
    "        odd.append(i)\n"
   ]
  },
  {
   "cell_type": "markdown",
   "metadata": {},
   "source": [
    "\n",
    "#### for loop over a string"
   ]
  },
  {
   "cell_type": "code",
   "execution_count": null,
   "metadata": {},
   "outputs": [],
   "source": [
    "\n",
    "\n",
    "s = \"Hello all, this is a 'Data science' class!!!!\"\n",
    "\n",
    "**Write a program to remove all the punctuation from a string using for loop.**\n",
    "\n",
    "import string\n",
    "a = string.punctuation\n",
    "\n",
    "a\n",
    "\n",
    "str1 = ''\n",
    "for i in s:\n",
    "    if i in a:\n",
    "        pass\n",
    "    else:\n",
    "        str1 = str1 + i\n",
    "        #print(str1)\n",
    "\n",
    "str1\n"
   ]
  },
  {
   "cell_type": "markdown",
   "metadata": {},
   "source": [
    "#### for loop over a tuple"
   ]
  },
  {
   "cell_type": "code",
   "execution_count": null,
   "metadata": {},
   "outputs": [],
   "source": [
    "\n",
    "\n",
    "\n",
    "t = (1,2,3,4)\n",
    "\n",
    "for i in t:\n",
    "    print(i)\n",
    "\n",
    "lst = [(1,2) , (3,4) , (5,6) , (7,8)]\n",
    "\n",
    "for i , j  in lst:\n",
    "    print(i,\":\",j)"
   ]
  },
  {
   "cell_type": "markdown",
   "metadata": {},
   "source": [
    "#### Tuple unpacking"
   ]
  },
  {
   "cell_type": "code",
   "execution_count": null,
   "metadata": {},
   "outputs": [],
   "source": [
    "\n",
    "\n",
    "\n",
    "\n",
    "l = []\n",
    "for i , j  in lst:\n",
    "    print(i)\n",
    "    print(j)\n",
    "    l.append(i)\n",
    "    l.append(j)\n",
    "\n",
    "\n"
   ]
  },
  {
   "cell_type": "markdown",
   "metadata": {},
   "source": [
    "\n",
    "#### Enumerate method"
   ]
  },
  {
   "cell_type": "code",
   "execution_count": null,
   "metadata": {},
   "outputs": [],
   "source": [
    "month = ['Feb','Mar','Apr','May','June']\n",
    "\n",
    "month = list(enumerate(month , start = 2))\n",
    "\n",
    "for index , data in month:\n",
    "    print(index)\n",
    "    print(data)"
   ]
  },
  {
   "cell_type": "markdown",
   "metadata": {},
   "source": [
    "\n",
    "#### for loop over a dictionary"
   ]
  },
  {
   "cell_type": "code",
   "execution_count": null,
   "metadata": {},
   "outputs": [],
   "source": [
    "\n",
    "d = {'k1':[1,2,3],'k2':[2,3,4],'k3':[3,4,5,6,7,8,9,10]}\n",
    "\n",
    "d.values()\n",
    "\n",
    "d.items()\n",
    "\n",
    "sum1 = 0\n",
    "for key , value in d.items():\n",
    "    print(key)\n",
    "    sum1 = sum1 + value[-1]\n"
   ]
  },
  {
   "cell_type": "markdown",
   "metadata": {},
   "source": [
    "\n",
    "### Nested for loop"
   ]
  },
  {
   "cell_type": "code",
   "execution_count": null,
   "metadata": {},
   "outputs": [],
   "source": [
    "**Write a program find out the sum of all the elements of dictionary d.**\n",
    "\n",
    "d\n",
    "\n",
    "sum = 0\n",
    "for key , value in d.items():\n",
    "    \n",
    "    for item in value:\n",
    "        sum = sum + item\n",
    "\n",
    "sum\n"
   ]
  },
  {
   "cell_type": "markdown",
   "metadata": {},
   "source": [
    "\n",
    "#### for loop over a set"
   ]
  },
  {
   "cell_type": "code",
   "execution_count": null,
   "metadata": {},
   "outputs": [],
   "source": [
    "\n",
    "s = {1,1,1,1,2,34,5,6,77,8,9}\n",
    "\n",
    "s\n",
    "\n",
    "for i in s:\n",
    "    print(i)\n",
    "\n",
    "d = {'Physics':82 , 'Math':65 , 'history': 75}\n",
    "\n",
    "t = list(d.values())\n",
    "t.sort()\n",
    "minimum = t[0]\n",
    "for key , value in d.items():\n",
    "    if value == minimum:\n",
    "        print(key)\n",
    "        break"
   ]
  },
  {
   "cell_type": "markdown",
   "metadata": {},
   "source": [
    "## Function"
   ]
  },
  {
   "cell_type": "code",
   "execution_count": 1,
   "metadata": {},
   "outputs": [],
   "source": [
    "def addition(x,y):\n",
    "    '''\n",
    "    This is called as Docstring\n",
    "    This is just the description of the function\n",
    "    Input/ Out\n",
    "    '''\n",
    "    print(\"Have a great day\")\n",
    "    return x+ y"
   ]
  },
  {
   "cell_type": "code",
   "execution_count": null,
   "metadata": {},
   "outputs": [],
   "source": [
    "\n",
    "def list_addition(lst):\n",
    "    return lst[0]+ lst[1]\n",
    "\n",
    "list_addition([1,1,1,1,1])"
   ]
  },
  {
   "cell_type": "markdown",
   "metadata": {},
   "source": [
    "### User input"
   ]
  },
  {
   "cell_type": "code",
   "execution_count": null,
   "metadata": {},
   "outputs": [],
   "source": [
    "**Write a function that accept a list as an input and it should return sum of all the elements of the list.**\n",
    "\n",
    "user_input = input(\"Please enter a list\")\n",
    "\n",
    "user_input = user_input.split()\n",
    "out = []\n",
    "for i in user_input:\n",
    "    out.append(int(i))\n",
    "\n",
    "lst1 = [1,2,3,4,5,6]\n",
    "lst2 = [6,6,5,4,3,22,1]\n",
    "#result = list_addition(lst1 , lst2)"
   ]
  },
  {
   "cell_type": "code",
   "execution_count": null,
   "metadata": {},
   "outputs": [],
   "source": [
    "list_sum = list_addition([1,2,4,5,7,9,00,1,11,55])\n",
    "\n",
    "a = addition(20,53)\n",
    "addition(\"Hello\",\"World\")"
   ]
  },
  {
   "cell_type": "markdown",
   "metadata": {},
   "source": [
    "**Write a function to check if a number is Prime.**"
   ]
  },
  {
   "cell_type": "code",
   "execution_count": null,
   "metadata": {},
   "outputs": [],
   "source": [
    "def find_prime(x):\n",
    "    y = x-1\n",
    "    while y > 2: \n",
    "        if x%y == 0:\n",
    "            print(\"it's not a prime number\")\n",
    "            break\n",
    "        y = y-1 \n",
    "    \n",
    "    print(y)\n",
    "    if y == 2:\n",
    "        print(\"Number is a prime number\")\n",
    "\n",
    "x  = int(input(\"Please enter a number\"))"
   ]
  },
  {
   "cell_type": "code",
   "execution_count": null,
   "metadata": {},
   "outputs": [],
   "source": [
    "find_prime(x)\n"
   ]
  },
  {
   "cell_type": "markdown",
   "metadata": {},
   "source": [
    "## Map / Filter / Reduce"
   ]
  },
  {
   "cell_type": "markdown",
   "metadata": {},
   "source": [
    "\n",
    "* Map\n",
    "\n",
    "    * Mapping a function with a sequence.\n",
    "    * It will return the output for each input."
   ]
  },
  {
   "cell_type": "code",
   "execution_count": null,
   "metadata": {},
   "outputs": [],
   "source": [
    "def multiply(x):\n",
    "    return x*2\n",
    "\n",
    "list(map(multiply , [1,2,3,4,5,6]))"
   ]
  },
  {
   "cell_type": "markdown",
   "metadata": {},
   "source": [
    "## Filter\n",
    "\n",
    "\n",
    "* Filter\n",
    "    * Filetring the values based on the input sequence.\n",
    "    * Out should always be from the same input list."
   ]
  },
  {
   "cell_type": "code",
   "execution_count": null,
   "metadata": {},
   "outputs": [],
   "source": [
    "\n",
    "def is_even(x):\n",
    "    if x%2 == 0:\n",
    "        return x\n",
    "    \n",
    "list(filter(is_even , [1,2,3,4,5,6]))   "
   ]
  },
  {
   "cell_type": "markdown",
   "metadata": {},
   "source": [
    "## Reduce\n",
    "\n",
    "\n",
    "* Reduce\n",
    "\n",
    "    * It takes list as an input a it return single output.\n",
    "    * Reduce method is present inside functools package."
   ]
  },
  {
   "cell_type": "code",
   "execution_count": null,
   "metadata": {},
   "outputs": [],
   "source": [
    "from functools import reduce\n",
    "lst =[47,11,42,13,13]\n",
    "\n",
    "\n"
   ]
  },
  {
   "cell_type": "code",
   "execution_count": null,
   "metadata": {},
   "outputs": [],
   "source": [
    "def sum(x,y):\n",
    "    return x+y\n",
    "\n",
    "def find_min(x,y):\n",
    "    if x < y:\n",
    "        return x\n",
    "    else:\n",
    "        return y\n",
    "\n",
    "reduce(sum,lst)\n",
    "\n",
    "reduce(find_min,lst)"
   ]
  },
  {
   "cell_type": "code",
   "execution_count": null,
   "metadata": {},
   "outputs": [],
   "source": [
    "l=[1,1,1,1,2,2,3,3,3,4,4,4,4,4,5]\n",
    "a=list(set(l))\n",
    "s=str(l)\n",
    "n=len(a)\n",
    "\n",
    "for(i=0;i<n;i++)\n",
    "{d={a[i]:s.count(str(a[i]))}}\n",
    "\n"
   ]
  }
 ],
 "metadata": {
  "kernelspec": {
   "display_name": "Python 3",
   "language": "python",
   "name": "python3"
  },
  "language_info": {
   "codemirror_mode": {
    "name": "ipython",
    "version": 3
   },
   "file_extension": ".py",
   "mimetype": "text/x-python",
   "name": "python",
   "nbconvert_exporter": "python",
   "pygments_lexer": "ipython3",
   "version": "3.8.5"
  }
 },
 "nbformat": 4,
 "nbformat_minor": 4
}
