{
 "cells": [
  {
   "cell_type": "markdown",
   "metadata": {},
   "source": [
    "# Files\n",
    "\n",
    "Python uses file objects to interact with external files on your computer. \n",
    "\n",
    "Python has a built-in open function that allows us to open and play with basic file types. First we will need a file though. We're going to use some IPython magic to create a text file!\n",
    "\n",
    "## IPython Writing a File \n",
    "#### This function is specific to jupyter notebooks! Alternatively, quickly create a simple .txt file with sublime text editor."
   ]
  },
  {
   "cell_type": "markdown",
   "metadata": {},
   "source": [
    "#### %%writefile \n",
    "\n",
    "* This is the magic command , only present in Jupyter notebook.\n",
    "* This command is used to create a external file(.txt/.py) using python commands."
   ]
  },
  {
   "cell_type": "code",
   "execution_count": 13,
   "metadata": {},
   "outputs": [
    {
     "name": "stdout",
     "output_type": "stream",
     "text": [
      "Writing D:\\corona\\test2.txt\n"
     ]
    }
   ],
   "source": [
    "%%writefile D:\\corona\\test2.txt\n",
    "l = [1,2,3,4,5]\n",
    "print(l[2])\n",
    "print(\"This is a DataScience Class\")"
   ]
  },
  {
   "cell_type": "markdown",
   "metadata": {},
   "source": [
    "**pwd command is used to Identify you current working directory.**"
   ]
  },
  {
   "cell_type": "code",
   "execution_count": 14,
   "metadata": {},
   "outputs": [
    {
     "data": {
      "text/plain": [
       "'C:\\\\Users\\\\majain\\\\Desktop\\\\DataScience\\\\DataScience by Madhur\\\\01 Python Crash Course'"
      ]
     },
     "execution_count": 14,
     "metadata": {},
     "output_type": "execute_result"
    }
   ],
   "source": [
    "pwd  ## present working directory"
   ]
  },
  {
   "cell_type": "markdown",
   "metadata": {},
   "source": [
    "**How to pass the path of the files that you would like to read.**"
   ]
  },
  {
   "cell_type": "markdown",
   "metadata": {},
   "source": [
    "There are 2 ways to pass the path\n",
    "1. Double \\\\ . Replacing all single / with double // in the path.\n",
    "2. Write r infront of the string.\n",
    "\n",
    "* Otherwise in python /n , /t /D etc. these are called as escape characters.\n",
    "* Escape characters have different meaning in python"
   ]
  },
  {
   "cell_type": "code",
   "execution_count": 15,
   "metadata": {},
   "outputs": [
    {
     "name": "stdout",
     "output_type": "stream",
     "text": [
      "C:\\Users\\majain\\Desktop\\app\\test.py\n"
     ]
    }
   ],
   "source": [
    "print(\"C:\\\\Users\\\\majain\\\\Desktop\\\\app\\\\test.py\")"
   ]
  },
  {
   "cell_type": "code",
   "execution_count": 20,
   "metadata": {},
   "outputs": [
    {
     "name": "stdout",
     "output_type": "stream",
     "text": [
      "C:\\Users\\majain\\Desktop\\app\\test.py\n"
     ]
    }
   ],
   "source": [
    "print(r'C:\\Users\\majain\\Desktop\\app\\test.py')"
   ]
  },
  {
   "cell_type": "markdown",
   "metadata": {},
   "source": [
    "## Python Opening a file\n",
    "\n",
    "Let's being by opening the file Matplotlib.txt that is located at my Desktop.\n",
    "It is very easy to get an error on this step:"
   ]
  },
  {
   "cell_type": "markdown",
   "metadata": {},
   "source": [
    "**To grab files from any location on your computer, simply pass in the entire file path. **\n",
    "\n",
    "For Windows you need to use double \\ so python doesn't treat the second \\ as an escape character, a file path is in the form:\n",
    "\n",
    "    myfile = open(\"C:\\\\Users\\\\YourUserName\\\\Home\\\\Folder\\\\myfile.txt\")\n",
    "\n",
    "For MacOS and Linux you use slashes in the opposite direction:\n",
    "\n",
    "    myfile = open(\"/Users/YouUserName/Folder/myfile.txt\")"
   ]
  },
  {
   "cell_type": "code",
   "execution_count": 4,
   "metadata": {},
   "outputs": [],
   "source": [
    "my_file = open(\"C:\\\\Users\\\\majain\\\\Desktop\\\\Matplotlib.txt\")"
   ]
  },
  {
   "cell_type": "code",
   "execution_count": 5,
   "metadata": {},
   "outputs": [
    {
     "data": {
      "text/plain": [
       "\"Join our community!\\nMatplotlib is a welcoming, inclusive project, and we follow the Python Software Foundation Code of Conduct in everything we do.\\n\\nGet help\\nDiscourse\\nJoin our community at discourse.matplotlib.org to get help, discuss contributing & development, and share your work.\\n\\nQuestions\\nIf you have questions, be sure to check the FAQ, the API docs. The full text search is a good way to discover the docs including the many examples.\\n\\nStackoverflow\\nCheck out the Matplotlib tag on stackoverflow.\\n\\nGitter\\nShort questions may be posted on the gitter channel.\\n\\nNews\\nNews\\nTo keep up to date with what's going on in Matplotlib, see the what's new page or browse the source code. Anything that could require changes to your existing code is logged in the API changes file.\\n\\nSocial media\\nTweet us at @matplotlib!\\nSee cool plots on @matplotart Instagram!\\nCheck out our Blog!\\nDevelopment\\nGithub\\nMatplotlib is hosted on GitHub.\\n\\nFile bugs and feature requests on the issue tracker.\\nPull requests are always welcome.\\nIt is a good idea to ping us on Discourse as well.\\n\\nMailing lists\\nMailing lists\\n\\nmatplotlib-users for usage questions\\nmatplotlib-devel for development\\nmatplotlib-announce for project announcements\\nToolkits\\nMatplotlib ships with several add-on toolkits, including 3D plotting with mplot3d, axes helpers in axes_grid1 and axis helpers in axisartist.\\n\\nThird party packages\\nA large number of third party packages extend and build on Matplotlib functionality, including several higher-level plotting interfaces (seaborn, HoloViews, ggplot, ...), and a projection and mapping toolkit (Cartopy).\\n\\nCiting Matplotlib\\nMatplotlib is the brainchild of John Hunter (1968-2012), who, along with its many contributors, have put an immeasurable amount of time and effort into producing a piece of software utilized by thousands of scientists worldwide.\\n\\nIf Matplotlib contributes to a project that leads to a scientific publication, please acknowledge this work by citing the project. A ready-made citation entry is available.\""
      ]
     },
     "execution_count": 5,
     "metadata": {},
     "output_type": "execute_result"
    }
   ],
   "source": [
    "my_file.read()"
   ]
  },
  {
   "cell_type": "markdown",
   "metadata": {},
   "source": [
    "**Seek command is used to bring the cursor at the start index of my file.**\n",
    "\n",
    "So there is nothing left to read once you read all the lines present in the file. We can reset the \"cursor\" like this:"
   ]
  },
  {
   "cell_type": "code",
   "execution_count": null,
   "metadata": {},
   "outputs": [],
   "source": [
    "my_file.seek(0)  "
   ]
  },
  {
   "cell_type": "markdown",
   "metadata": {},
   "source": [
    "You can read a file line by line using the readlines method. Use caution with large files, since everything will be held in memory. We will learn how to iterate over large files later in the course."
   ]
  },
  {
   "cell_type": "code",
   "execution_count": null,
   "metadata": {},
   "outputs": [],
   "source": [
    "my_file.readlines()"
   ]
  },
  {
   "cell_type": "markdown",
   "metadata": {},
   "source": [
    "When you have finished using a file, it is always good practice to close it."
   ]
  },
  {
   "cell_type": "code",
   "execution_count": null,
   "metadata": {},
   "outputs": [],
   "source": [
    "my_file.close()"
   ]
  },
  {
   "cell_type": "markdown",
   "metadata": {},
   "source": [
    "## Appending to a File\n",
    "Passing the argument `'a'` opens the file and puts the pointer at the end, so anything written is appended. Like `'w+'`, `'a+'` lets us read and write to a file. If the file does not exist, one will be created."
   ]
  },
  {
   "cell_type": "code",
   "execution_count": 37,
   "metadata": {},
   "outputs": [],
   "source": [
    "my_file = open(\"C:\\\\Users\\\\majain\\\\Desktop\\\\newfile.txt\",mode='w+')\n",
    "my_file.write(\"Hello World \\n\")\n",
    "my_file.write(\"Good Bye\\n \")\n"
   ]
  },
  {
   "cell_type": "code",
   "execution_count": 36,
   "metadata": {},
   "outputs": [],
   "source": [
    "my_file = open(\"C:\\\\Users\\\\majain\\\\Desktop\\\\newfile.txt\",mode='a+')\n",
    "my_file.write(\"Hello {} World \\n\".format(\"Madhur\"))\n",
    "my_file.write(\"Good Bye \\n\")\n",
    "my_file.close()"
   ]
  },
  {
   "cell_type": "markdown",
   "metadata": {},
   "source": [
    "### Appending with `%%writefile`\n",
    "We can do the same thing using IPython cell magic:"
   ]
  },
  {
   "cell_type": "code",
   "execution_count": 18,
   "metadata": {},
   "outputs": [
    {
     "name": "stdout",
     "output_type": "stream",
     "text": [
      "Appending to test.txt\n"
     ]
    }
   ],
   "source": [
    "%%writefile -a test.txt\n",
    "\n",
    "This is text being appended to test.txt\n",
    "And another line here."
   ]
  },
  {
   "cell_type": "markdown",
   "metadata": {},
   "source": [
    "## Iterating through a File\n"
   ]
  },
  {
   "cell_type": "code",
   "execution_count": 6,
   "metadata": {
    "scrolled": true
   },
   "outputs": [
    {
     "name": "stdout",
     "output_type": "stream",
     "text": [
      "Join our community!\n",
      "\n",
      "Matplotlib is a welcoming, inclusive project, and we follow the Python Software Foundation Code of Conduct in everything we do.\n",
      "\n",
      "\n",
      "\n",
      "Get help\n",
      "\n",
      "Discourse\n",
      "\n",
      "Join our community at discourse.matplotlib.org to get help, discuss contributing & development, and share your work.\n",
      "\n",
      "\n",
      "\n",
      "Questions\n",
      "\n",
      "If you have questions, be sure to check the FAQ, the API docs. The full text search is a good way to discover the docs including the many examples.\n",
      "\n",
      "\n",
      "\n",
      "Stackoverflow\n",
      "\n",
      "Check out the Matplotlib tag on stackoverflow.\n",
      "\n",
      "\n",
      "\n",
      "Gitter\n",
      "\n",
      "Short questions may be posted on the gitter channel.\n",
      "\n",
      "\n",
      "\n",
      "News\n",
      "\n",
      "News\n",
      "\n",
      "To keep up to date with what's going on in Matplotlib, see the what's new page or browse the source code. Anything that could require changes to your existing code is logged in the API changes file.\n",
      "\n",
      "\n",
      "\n",
      "Social media\n",
      "\n",
      "Tweet us at @matplotlib!\n",
      "\n",
      "See cool plots on @matplotart Instagram!\n",
      "\n",
      "Check out our Blog!\n",
      "\n",
      "Development\n",
      "\n",
      "Github\n",
      "\n",
      "Matplotlib is hosted on GitHub.\n",
      "\n",
      "\n",
      "\n",
      "File bugs and feature requests on the issue tracker.\n",
      "\n",
      "Pull requests are always welcome.\n",
      "\n",
      "It is a good idea to ping us on Discourse as well.\n",
      "\n",
      "\n",
      "\n",
      "Mailing lists\n",
      "\n",
      "Mailing lists\n",
      "\n",
      "\n",
      "\n",
      "matplotlib-users for usage questions\n",
      "\n",
      "matplotlib-devel for development\n",
      "\n",
      "matplotlib-announce for project announcements\n",
      "\n",
      "Toolkits\n",
      "\n",
      "Matplotlib ships with several add-on toolkits, including 3D plotting with mplot3d, axes helpers in axes_grid1 and axis helpers in axisartist.\n",
      "\n",
      "\n",
      "\n",
      "Third party packages\n",
      "\n",
      "A large number of third party packages extend and build on Matplotlib functionality, including several higher-level plotting interfaces (seaborn, HoloViews, ggplot, ...), and a projection and mapping toolkit (Cartopy).\n",
      "\n",
      "\n",
      "\n",
      "Citing Matplotlib\n",
      "\n",
      "Matplotlib is the brainchild of John Hunter (1968-2012), who, along with its many contributors, have put an immeasurable amount of time and effort into producing a piece of software utilized by thousands of scientists worldwide.\n",
      "\n",
      "\n",
      "\n",
      "If Matplotlib contributes to a project that leads to a scientific publication, please acknowledge this work by citing the project. A ready-made citation entry is available.\n"
     ]
    }
   ],
   "source": [
    "for line in open(r'C:\\Users\\majain\\Desktop\\Matplotlib.txt'):\n",
    "    print(line)"
   ]
  }
 ],
 "metadata": {
  "kernelspec": {
   "display_name": "Python 3",
   "language": "python",
   "name": "python3"
  },
  "language_info": {
   "codemirror_mode": {
    "name": "ipython",
    "version": 3
   },
   "file_extension": ".py",
   "mimetype": "text/x-python",
   "name": "python",
   "nbconvert_exporter": "python",
   "pygments_lexer": "ipython3",
   "version": "3.8.5"
  }
 },
 "nbformat": 4,
 "nbformat_minor": 2
}
